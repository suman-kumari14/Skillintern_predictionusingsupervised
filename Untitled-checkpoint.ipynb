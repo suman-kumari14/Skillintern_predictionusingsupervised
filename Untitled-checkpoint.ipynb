{
 "cells": [
  {
   "cell_type": "code",
   "execution_count": 2,
   "id": "1a09ebc3-b5fb-4e0c-9db8-ad5fc90c2166",
   "metadata": {},
   "outputs": [
    {
     "name": "stdout",
     "output_type": "stream",
     "text": [
      "Predicted score for 9.25 hours/day of study: 92.915\n"
     ]
    }
   ],
   "source": [
    "import pandas as pd\n",
    "import numpy as np\n",
    "from sklearn.model_selection import train_test_split\n",
    "from sklearn.linear_model import LinearRegression\n",
    "url = \"http://bit.ly/w-data\"\n",
    "d = pd.read_csv(url)\n",
    "X = d.iloc[:, :-1].values  \n",
    "y = d.iloc[:, 1].values  \n",
    "X_t, X_test, y_t, y_test = train_test_split(X, y, test_size=0.3, random_state=0)\n",
    "model = LinearRegression()\n",
    "model.fit(X_t, y_t)\n",
    "hours = 9.25\n",
    "predicted_score = model.predict([[hours]])[0]\n",
    "print(f\"Predicted score for {hours} hours/day of study: {predicted_score:.3f}\")"
   ]
  },
  {
   "cell_type": "code",
   "execution_count": null,
   "id": "3206622a-821b-4b90-958c-2030bde7b9d0",
   "metadata": {},
   "outputs": [],
   "source": []
  }
 ],
 "metadata": {
  "kernelspec": {
   "display_name": "Python 3 (ipykernel)",
   "language": "python",
   "name": "python3"
  },
  "language_info": {
   "codemirror_mode": {
    "name": "ipython",
    "version": 3
   },
   "file_extension": ".py",
   "mimetype": "text/x-python",
   "name": "python",
   "nbconvert_exporter": "python",
   "pygments_lexer": "ipython3",
   "version": "3.12.0"
  }
 },
 "nbformat": 4,
 "nbformat_minor": 5
}
